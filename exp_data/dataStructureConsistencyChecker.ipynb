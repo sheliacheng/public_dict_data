{
 "cells": [
  {
   "cell_type": "code",
   "execution_count": 8,
   "metadata": {},
   "outputs": [],
   "source": [
    "import json "
   ]
  },
  {
   "cell_type": "code",
   "execution_count": 60,
   "metadata": {},
   "outputs": [],
   "source": [
    "class Consistency_Checker:\n",
    "    def __init__(self,file):\n",
    "      self.file = file \n",
    "    # Check whether all the datasets have the same filed names \n",
    "    def filedname_checker(self,file):  \n",
    "       inconsistencies = []\n",
    "       with open(self.file,'r') as F:\n",
    "         contents = json.load(F)\n",
    "       for each in contents['database']:\n",
    "         result = list(map(self.filedname_checker_helper,each))\n",
    "         if False in result:\n",
    "            inconsistencies.append(each)\n",
    "       for each in inconsistencies:\n",
    "         print(each)\n",
    "\n",
    "    def fieldname_checker_helper(each_key):\n",
    "      fields =['pinyin','word','usages','meaning','example']\n",
    "      if each_key not in fields:\n",
    "         return False \n",
    "      return True    \n",
    "\n",
    "    def datatype_checker(self):\n",
    "       inconsistencies = []\n",
    "       with open (self.file,'r') as F: \n",
    "          contents = json.load(F)\n",
    "       for each in contents['database']:\n",
    "          result = self.datatype_checker_helper(each)\n",
    "          if(result == False):\n",
    "            inconsistencies.append(each)\n",
    "          \n",
    "       for each in inconsistencies:\n",
    "        print(each)\n",
    "\n",
    "    def datatype_checker_helper(self,each):\n",
    "      for k, v in each.items():\n",
    "        if not isinstance(v,str):\n",
    "          return False\n",
    "      return True"
   ]
  },
  {
   "cell_type": "code",
   "execution_count": 2,
   "metadata": {},
   "outputs": [],
   "source": [
    "file = 'all_exp_data.json'\n",
    "# t = Consistency_Checker(file)\n",
    "# t.datatype_checker()"
   ]
  },
  {
   "cell_type": "code",
   "execution_count": 17,
   "metadata": {},
   "outputs": [
    {
     "data": {
      "text/plain": [
       "list"
      ]
     },
     "execution_count": 17,
     "metadata": {},
     "output_type": "execute_result"
    }
   ],
   "source": [
    "def tmp_checker(file):\n",
    "    with open(file, 'r') as F:\n",
    "        contents = json.load(F)\n",
    "    return type(contents['database'])\n",
    "tmp_checker(file)"
   ]
  },
  {
   "cell_type": "code",
   "execution_count": 34,
   "metadata": {},
   "outputs": [
    {
     "name": "stdout",
     "output_type": "stream",
     "text": [
      "['/Users/xiaoxuecheng/Library/Mobile Documents/com~apple~CloudDocs/DICTDATA/public_dict_data/exp_data', '/opt/miniconda3/lib/python310.zip', '/opt/miniconda3/lib/python3.10', '/opt/miniconda3/lib/python3.10/lib-dynload', '', '/opt/miniconda3/lib/python3.10/site-packages', '/opt/miniconda3/lib/python3.10/site-packages/IPython/extensions', '/Users/xiaoxuecheng/.ipython', '/Users/xiaoxuecheng/Library/Mobile Documents/com~apple~CloudDocs/DICTDATA/local_dict_data/helpers.py', '/Users/xiaoxuecheng/Library/Mobile Documents/com~apple~CloudDocs/DICTDATA/local_dict_data/helpers.py', 'local_dict_data/helpers.py', '../../helpers.py', '../../helpers.py', '../../helpers.py', '/Users/xiaoxuecheng/Library/Mobile Documents/com~apple~CloudDocs/DICTDATA/helpers.py', '/Users/xiaoxuecheng/Library/Mobile Documents/com~apple~CloudDocs/DICTDATA/helpers.py', '/Users/xiaoxuecheng/Library/Mobile Documents/com~apple~CloudDocs/DICTDATA/helpers', '/Users/xiaoxuecheng/Library/Mobile Documents/com~apple~CloudDocs/DICTDATA/helpers', '/Users/xiaoxuecheng/Library/Mobile Documents/com~apple~CloudDocs/DICTDATA/helpers.py']\n"
     ]
    }
   ],
   "source": [
    "import json \n",
    "import re\n",
    "import sys\n",
    "sys.path.append('/Users/xiaoxuecheng/Library/Mobile Documents/com~apple~CloudDocs/DICTDATA/helpers.py')\n",
    "# print(sys.path)"
   ]
  },
  {
   "cell_type": "code",
   "execution_count": 38,
   "metadata": {},
   "outputs": [],
   "source": [
    "# Find out whether there is a single quotation marker in the string, if so , correct it to double quotation marker\n",
    "\n",
    "def validate_json(file):\n",
    "    with open(file,'r') as F:\n",
    "        contents = json.load(F)\n",
    "\n",
    "    newDatabase = list()\n",
    "    for each in contents['database']:\n",
    "        newItem = dict()\n",
    "        for k,v in each.items():\n",
    "            result = QMValidator(v)\n",
    "            if not result:\n",
    "                newV = v.replace(\"'\", \"\\\"\")\n",
    "                newItem[k] = newV\n",
    "            else:\n",
    "                newItem[k] = v\n",
    "        newDatabase.append(newItem)\n",
    "    newFile = dict()\n",
    "    newFile['database'] = newDatabase\n",
    "    newFile['version'] = 1.0\n",
    "    with open('new_file.json','w') as F:\n",
    "        json.dump(newFile,F,ensure_ascii= False)\n",
    "\n",
    "def QMValidator(v):\n",
    "    if re.search(r\"'(.*?)'\", v):\n",
    "        return False \n",
    "    return True \n",
    "\n",
    "        "
   ]
  },
  {
   "cell_type": "code",
   "execution_count": 39,
   "metadata": {},
   "outputs": [],
   "source": [
    "# To check if any dataset is a list rather than dictionary \n"
   ]
  }
 ],
 "metadata": {
  "kernelspec": {
   "display_name": "Python 3",
   "language": "python",
   "name": "python3"
  },
  "language_info": {
   "codemirror_mode": {
    "name": "ipython",
    "version": 3
   },
   "file_extension": ".py",
   "mimetype": "text/x-python",
   "name": "python",
   "nbconvert_exporter": "python",
   "pygments_lexer": "ipython3",
   "version": "3.10.5"
  }
 },
 "nbformat": 4,
 "nbformat_minor": 2
}
