{
 "cells": [
  {
   "cell_type": "code",
   "execution_count": 1,
   "metadata": {},
   "outputs": [],
   "source": [
    "import json "
   ]
  },
  {
   "cell_type": "code",
   "execution_count": 60,
   "metadata": {},
   "outputs": [],
   "source": [
    "class Consistency_Checker:\n",
    "    def __init__(self,file):\n",
    "      self.file = file \n",
    "    # Check whether all the datasets have the same filed names \n",
    "    def filedname_checker(self,file):  \n",
    "       inconsistencies = []\n",
    "       with open(self.file,'r') as F:\n",
    "         contents = json.load(F)\n",
    "       for each in contents['database']:\n",
    "         result = list(map(self.filedname_checker_helper,each))\n",
    "         if False in result:\n",
    "            inconsistencies.append(each)\n",
    "       for each in inconsistencies:\n",
    "         print(each)\n",
    "\n",
    "    def fieldname_checker_helper(each_key):\n",
    "      fields =['pinyin','word','usages','meaning','example']\n",
    "      if each_key not in fields:\n",
    "         return False \n",
    "      return True    \n",
    "\n",
    "    def datatype_checker(self):\n",
    "       inconsistencies = []\n",
    "       with open (self.file,'r') as F: \n",
    "          contents = json.load(F)\n",
    "       for each in contents['database']:\n",
    "          result = self.datatype_checker_helper(each)\n",
    "          if(result == False):\n",
    "            inconsistencies.append(each)\n",
    "          \n",
    "       for each in inconsistencies:\n",
    "        print(each)\n",
    "\n",
    "    def datatype_checker_helper(self,each):\n",
    "      for k, v in each.items():\n",
    "        if not isinstance(v,str):\n",
    "          return False\n",
    "      return True"
   ]
  },
  {
   "cell_type": "code",
   "execution_count": 61,
   "metadata": {},
   "outputs": [],
   "source": [
    "file = 'all_in_one_exp_data.json'\n",
    "t = Consistency_Checker(file)\n",
    "t.datatype_checker()"
   ]
  }
 ],
 "metadata": {
  "kernelspec": {
   "display_name": "Python 3",
   "language": "python",
   "name": "python3"
  },
  "language_info": {
   "codemirror_mode": {
    "name": "ipython",
    "version": 3
   },
   "file_extension": ".py",
   "mimetype": "text/x-python",
   "name": "python",
   "nbconvert_exporter": "python",
   "pygments_lexer": "ipython3",
   "version": "3.10.5"
  }
 },
 "nbformat": 4,
 "nbformat_minor": 2
}
