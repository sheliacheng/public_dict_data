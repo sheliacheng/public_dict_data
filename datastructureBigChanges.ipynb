{
 "cells": [
  {
   "cell_type": "code",
   "execution_count": 1,
   "metadata": {},
   "outputs": [],
   "source": [
    "import json"
   ]
  },
  {
   "cell_type": "code",
   "execution_count": 10,
   "metadata": {},
   "outputs": [],
   "source": [
    "def convert_list_to_dic(file, keyword,newfile):\n",
    "    newF = dict()\n",
    "    database_dict = dict()\n",
    "    with open(file,'r') as F: \n",
    "        contents = json.load(F)\n",
    "    newF['version'] = contents['version']\n",
    "    newF['changes'] = contents['changes']\n",
    "    database = contents['database']\n",
    "    for each in database: \n",
    "        database_dict[each[keyword]] = each \n",
    "    newF['database'] = database_dict\n",
    "    with open(newfile,'w') as F:\n",
    "        json.dump(newF,F,ensure_ascii= False)\n"
   ]
  },
  {
   "cell_type": "code",
   "execution_count": 11,
   "metadata": {},
   "outputs": [],
   "source": [
    "file = 'writing_data/allWritingDataForDB.json'\n",
    "keyword = 'hanzi'\n",
    "newfile = 'all_writing_data.json'\n",
    "t = convert_list_to_dic(file,keyword,newfile)\n",
    "t"
   ]
  },
  {
   "cell_type": "code",
   "execution_count": 13,
   "metadata": {},
   "outputs": [],
   "source": [
    "file = 'exp_data/all_exp_data.json'\n",
    "keyword = 'word'\n",
    "newfile = 'all_exp_data.json'\n",
    "convert_list_to_dic(file,keyword,newfile)"
   ]
  }
 ],
 "metadata": {
  "kernelspec": {
   "display_name": "Python 3",
   "language": "python",
   "name": "python3"
  },
  "language_info": {
   "codemirror_mode": {
    "name": "ipython",
    "version": 3
   },
   "file_extension": ".py",
   "mimetype": "text/x-python",
   "name": "python",
   "nbconvert_exporter": "python",
   "pygments_lexer": "ipython3",
   "version": "3.10.5"
  }
 },
 "nbformat": 4,
 "nbformat_minor": 2
}
